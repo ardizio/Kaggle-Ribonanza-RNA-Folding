{
 "cells": [
  {
   "cell_type": "code",
   "execution_count": 3,
   "metadata": {},
   "outputs": [],
   "source": [
    "from pathlib import Path\n",
    "import polars as pl"
   ]
  },
  {
   "cell_type": "code",
   "execution_count": 6,
   "metadata": {},
   "outputs": [],
   "source": [
    "DATA_DIR = Path(\"C:/Users/ardiz/OneDrive/Desktop/RNA/Ribonaza/dataset\")\n",
    "\n",
    "TRAIN_CSV = DATA_DIR / \"train_data.csv\"\n",
    "TRAIN_PARQUET_FILE = \"train_data.parquet\"\n",
    "\n",
    "TEST_CSV = DATA_DIR / \"test_sequences.csv\"\n",
    "TEST_PARQUET_FILE = \"test_sequences.parquet\"\n",
    "\n",
    "TRAIN_QC_CSV = DATA_DIR / \"train_data_QUICK_START.csv\"\n",
    "TRAIN_QC_PARQUET_FILE = \"train_data_QUICK_START.parquet\"\n",
    "\n",
    "PRED_CSV = \"submission.csv\""
   ]
  },
  {
   "cell_type": "code",
   "execution_count": 7,
   "metadata": {},
   "outputs": [],
   "source": [
    "def to_parquet(csv_file, parquet_file):\n",
    "    dummy_df = pl.scan_csv(csv_file)\n",
    "\n",
    "    new_schema = {}\n",
    "    for key, value in dummy_df.schema.items():\n",
    "        if key.startswith(\"reactivity\"):\n",
    "            new_schema[key] = pl.Float32\n",
    "        else:\n",
    "            new_schema[key] = value\n",
    "\n",
    "    df = pl.scan_csv(csv_file, schema=new_schema)\n",
    "    \n",
    "    df.sink_parquet(\n",
    "            parquet_file,\n",
    "            compression='uncompressed',\n",
    "            row_group_size=10,\n",
    "    )"
   ]
  },
  {
   "cell_type": "code",
   "execution_count": null,
   "metadata": {},
   "outputs": [],
   "source": [
    "#to_parquet(TRAIN_CSV, TRAIN_PARQUET_FILE)\n",
    "#to_parquet(TEST_CSV, TEST_PARQUET_FILE)\n",
    "#to_parquet(TRAIN_QC_CSV, TRAIN_QC_PARQUET_FILE)\n",
    "\n",
    "# THEN MANUALLY MOVE TO DATASET FOLDER"
   ]
  }
 ],
 "metadata": {
  "kernelspec": {
   "display_name": "Python 3",
   "language": "python",
   "name": "python3"
  },
  "language_info": {
   "codemirror_mode": {
    "name": "ipython",
    "version": 3
   },
   "file_extension": ".py",
   "mimetype": "text/x-python",
   "name": "python",
   "nbconvert_exporter": "python",
   "pygments_lexer": "ipython3",
   "version": "3.11.6"
  }
 },
 "nbformat": 4,
 "nbformat_minor": 2
}
